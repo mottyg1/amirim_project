{
 "cells": [
  {
   "cell_type": "code",
   "execution_count": 20,
   "metadata": {
    "collapsed": true,
    "ExecuteTime": {
     "end_time": "2023-05-31T18:15:14.606911300Z",
     "start_time": "2023-05-31T18:15:14.580912800Z"
    }
   },
   "outputs": [],
   "source": [
    "import statistics\n",
    "from utils import catalan_number\n",
    "from utils import is_retroceding, random_walk\n",
    "from markov import *\n",
    "from collections import Counter"
   ]
  },
  {
   "cell_type": "code",
   "execution_count": 77,
   "outputs": [
    {
     "name": "stderr",
     "output_type": "stream",
     "text": [
      "100%|██████████| 100000/100000 [00:00<00:00, 118336.51it/s]"
     ]
    },
    {
     "name": "stdout",
     "output_type": "stream",
     "text": [
      "probability: 0.31419, count: 31419\n",
      "Counter({'[0, 790, 688]': 25071, '[0, 790, 0]': 25048, '[0, 732, 753]': 6388, '[0, 732, 0]': 6371, '[0, 732, 63]': 6300, '[0, 732, 623]': 6239, '[0, 732, 726]': 6178, '[0, 732, 457]': 6173, '[0, 732, 43]': 6125, '[0, 732, 53]': 6107})\n",
      "probability: 0.2, count: 2, all: 10\n"
     ]
    },
    {
     "name": "stderr",
     "output_type": "stream",
     "text": [
      "\n"
     ]
    }
   ],
   "source": [
    "n = 1000\n",
    "c = 3\n",
    "g = ig.Graph.Erdos_Renyi(n, c / n)\n",
    "t = 2\n",
    "start_node = 0\n",
    "\n",
    "\n",
    "def p_t_fr_and_retro_simulation(samples):\n",
    "    retro_walks = 0\n",
    "    retro_walks_counter = Counter()\n",
    "    for _ in tqdm(range(samples)):\n",
    "        walk = random_walk(g, start_node=0, length=t)\n",
    "        retro_walks_counter.update({str(walk): 1})\n",
    "        if is_retroceding(walk):\n",
    "            retro_walks += 1\n",
    "\n",
    "    retro_probability = retro_walks / samples\n",
    "    print(f\"probability: {retro_probability}, count: {retro_walks}\")\n",
    "    print(retro_walks_counter)\n",
    "\n",
    "\n",
    "def get_simulation_histogram():\n",
    "    walks = [[start_node]]\n",
    "    for _ in range(t):\n",
    "        new_walks = []\n",
    "        for walk in walks:\n",
    "            v = walk[-1]\n",
    "            for u in g.neighbors(v):\n",
    "                new_walks.append(walk + [u])\n",
    "        walks = new_walks\n",
    "\n",
    "    all_walks = len(walks)\n",
    "    retro_walks = len([w for w in walks if is_retroceding(w)])\n",
    "    print(f\"probability: {retro_walks/all_walks}, count: {retro_walks}, all: {all_walks}\")\n",
    "\n",
    "\n",
    "p_t_fr_and_retro_simulation(100000)\n",
    "get_simulation_histogram()"
   ],
   "metadata": {
    "collapsed": false,
    "ExecuteTime": {
     "end_time": "2023-05-31T18:35:28.459495100Z",
     "start_time": "2023-05-31T18:35:27.601012200Z"
    }
   }
  },
  {
   "cell_type": "code",
   "execution_count": 75,
   "outputs": [
    {
     "data": {
      "text/plain": "[282, 826]"
     },
     "execution_count": 75,
     "metadata": {},
     "output_type": "execute_result"
    }
   ],
   "source": [
    "g.neighbors(0)"
   ],
   "metadata": {
    "collapsed": false,
    "ExecuteTime": {
     "end_time": "2023-05-31T18:26:05.485550Z",
     "start_time": "2023-05-31T18:26:05.475552Z"
    }
   }
  },
  {
   "cell_type": "code",
   "execution_count": null,
   "outputs": [],
   "source": [
    "\n",
    "\n",
    "#get_simulation_histogram(10,2,2,samples=1)"
   ],
   "metadata": {
    "collapsed": false
   }
  },
  {
   "cell_type": "code",
   "execution_count": 26,
   "outputs": [],
   "source": [
    "def get_simulation_histogram(n, c, depth, samples=100, summary=False):\n",
    "    n_walks = []\n",
    "    n_retro_walks = []\n",
    "    probs = []\n",
    "    for i in tqdm(range(samples)):\n",
    "        g = ig.Graph.Erdos_Renyi(n, c / n)\n",
    "        walks = [[0]]\n",
    "        for _ in range(depth):\n",
    "            new_walks = []\n",
    "            for walk in walks:\n",
    "                v = walk[-1]\n",
    "                for u in g.neighbors(v):\n",
    "                    new_walks.append(walk + [u])\n",
    "            walks = new_walks\n",
    "        #print(walks)\n",
    "        if len(walks) == 0:\n",
    "            continue\n",
    "        n_walks.append(len(walks))\n",
    "        n_retro_walks.append(len([w for w in walks if is_retroceding(w)]))\n",
    "        probs.append(len([w for w in walks if is_retroceding(w)]) / len(walks))\n",
    "        #(w.count(0) == 2 and w == w[::-1])])\n",
    "    #print(n_walks[:30])\n",
    "    if not summary:\n",
    "        return n_walks, n_retro_walks, probs\n",
    "    else:\n",
    "        return statistics.mean(n_walks), statistics.mean(n_retro_walks), statistics.mean(probs)\n",
    "\n",
    "#get_simulation_histogram(10,2,2,samples=1)"
   ],
   "metadata": {
    "collapsed": false,
    "ExecuteTime": {
     "end_time": "2023-05-31T13:49:10.285674400Z",
     "start_time": "2023-05-31T13:49:10.263677900Z"
    }
   }
  },
  {
   "cell_type": "code",
   "execution_count": 24,
   "outputs": [
    {
     "data": {
      "text/plain": "False"
     },
     "execution_count": 24,
     "metadata": {},
     "output_type": "execute_result"
    }
   ],
   "source": [
    "is_retroceding([])"
   ],
   "metadata": {
    "collapsed": false,
    "ExecuteTime": {
     "end_time": "2023-05-31T13:29:17.967950400Z",
     "start_time": "2023-05-31T13:29:17.947955Z"
    }
   }
  },
  {
   "cell_type": "code",
   "execution_count": 27,
   "outputs": [
    {
     "name": "stderr",
     "output_type": "stream",
     "text": [
      "100%|██████████| 10000/10000 [00:06<00:00, 1537.24it/s]\n"
     ]
    },
    {
     "data": {
      "text/plain": "<matplotlib.collections.PathCollection at 0x1d205fc2220>"
     },
     "execution_count": 27,
     "metadata": {},
     "output_type": "execute_result"
    },
    {
     "data": {
      "text/plain": "<Figure size 432x288 with 1 Axes>",
      "image/png": "[encoded data removed]"
     },
     "metadata": {},
     "output_type": "display_data"
    }
   ],
   "source": [
    "n = 1000\n",
    "c = 3\n",
    "x = 2\n",
    "\n",
    "simulation = get_simulation_histogram(n, c, x, samples=10000, summary=False)\n",
    "n_walks = simulation[0]\n",
    "n_retro_walks = simulation[1]\n",
    "probs = simulation[2]\n",
    "\n",
    "plt.scatter(n_walks, n_retro_walks)"
   ],
   "metadata": {
    "collapsed": false,
    "ExecuteTime": {
     "end_time": "2023-05-31T13:49:38.783032200Z",
     "start_time": "2023-05-31T13:49:32.011918200Z"
    }
   }
  },
  {
   "cell_type": "code",
   "execution_count": 28,
   "outputs": [
    {
     "name": "stderr",
     "output_type": "stream",
     "text": [
      "100%|██████████| 10000/10000 [00:06<00:00, 1557.56it/s]\n"
     ]
    }
   ],
   "source": [
    "n = 1000\n",
    "c = 3\n",
    "x = [2]\n",
    "\n",
    "simulations = [get_simulation_histogram(n, c, depth, samples=10000, summary=True) for depth in x]\n",
    "n_walks = [x[0] for x in simulations]\n",
    "n_retro_walks = [x[1] for x in simulations]\n",
    "probs = [x[2] for x in simulations]"
   ],
   "metadata": {
    "collapsed": false,
    "ExecuteTime": {
     "end_time": "2023-05-31T13:50:58.453137100Z",
     "start_time": "2023-05-31T13:50:51.998849900Z"
    }
   }
  },
  {
   "cell_type": "code",
   "execution_count": 29,
   "outputs": [],
   "source": [],
   "metadata": {
    "collapsed": false,
    "ExecuteTime": {
     "end_time": "2023-05-31T13:51:04.215586500Z",
     "start_time": "2023-05-31T13:51:04.195583400Z"
    }
   }
  },
  {
   "cell_type": "code",
   "execution_count": 31,
   "outputs": [],
   "source": [
    "n_walks_thoery = [(c * ((c + 1 - c / n) ** (t - 1))) for t in x]\n",
    "n_retro_walks_theory = [(catalan_number(int(t / 2 - 1)) * c * (c - c / n) * ((c - 2 * c / n) ** (t / 2 - 2))) for t in\n",
    "                        x]"
   ],
   "metadata": {
    "collapsed": false,
    "ExecuteTime": {
     "end_time": "2023-05-31T13:52:43.125576400Z",
     "start_time": "2023-05-31T13:52:43.103580800Z"
    }
   }
  },
  {
   "cell_type": "code",
   "execution_count": 32,
   "outputs": [
    {
     "data": {
      "text/plain": "<matplotlib.legend.Legend at 0x1d2070d4fd0>"
     },
     "execution_count": 32,
     "metadata": {},
     "output_type": "execute_result"
    },
    {
     "data": {
      "text/plain": "<Figure size 360x360 with 1 Axes>",
      "image/png": "[encoded data removed]"
     },
     "metadata": {},
     "output_type": "display_data"
    }
   ],
   "source": [
    "plt.figure(figsize=(5, 5))\n",
    "plt.plot(x, n_walks_thoery, \"or\", label=\"Theory n_walks\")\n",
    "plt.plot(x, n_walks, \"xb\", label=\"Simulation n_walks\")\n",
    "plt.xticks(x)\n",
    "plt.xlabel(\"Length of walk\")\n",
    "plt.legend()"
   ],
   "metadata": {
    "collapsed": false,
    "ExecuteTime": {
     "end_time": "2023-05-31T13:52:43.860692100Z",
     "start_time": "2023-05-31T13:52:43.614798500Z"
    }
   }
  },
  {
   "cell_type": "code",
   "execution_count": 33,
   "outputs": [
    {
     "data": {
      "text/plain": "<matplotlib.legend.Legend at 0x1d2070e9c40>"
     },
     "execution_count": 33,
     "metadata": {},
     "output_type": "execute_result"
    },
    {
     "data": {
      "text/plain": "<Figure size 360x360 with 1 Axes>",
      "image/png": "[encoded data removed]"
     },
     "metadata": {},
     "output_type": "display_data"
    }
   ],
   "source": [
    "plt.figure(figsize=(5, 5))\n",
    "plt.plot(x, n_retro_walks_theory, \"ro\", label=\"Theory n_retro_walks\")\n",
    "plt.plot(x, n_retro_walks, \"xb\", label=\"Simulation n_retro_walks\")\n",
    "plt.xticks(x)\n",
    "plt.xlabel(\"Length of walk\")\n",
    "plt.legend()"
   ],
   "metadata": {
    "collapsed": false,
    "ExecuteTime": {
     "end_time": "2023-05-31T13:52:49.805446500Z",
     "start_time": "2023-05-31T13:52:49.596542300Z"
    }
   }
  },
  {
   "cell_type": "code",
   "execution_count": 34,
   "outputs": [
    {
     "data": {
      "text/plain": "0.25043832974931596"
     },
     "execution_count": 34,
     "metadata": {},
     "output_type": "execute_result"
    }
   ],
   "source": [
    "n_retro_walks_theory[0] / n_walks_thoery[0]"
   ],
   "metadata": {
    "collapsed": false,
    "ExecuteTime": {
     "end_time": "2023-05-31T13:52:53.581435400Z",
     "start_time": "2023-05-31T13:52:53.553439100Z"
    }
   }
  },
  {
   "cell_type": "code",
   "execution_count": 35,
   "outputs": [
    {
     "data": {
      "text/plain": "0.2508357849692431"
     },
     "execution_count": 35,
     "metadata": {},
     "output_type": "execute_result"
    }
   ],
   "source": [
    "n_retro_walks[0] / n_walks[0]"
   ],
   "metadata": {
    "collapsed": false,
    "ExecuteTime": {
     "end_time": "2023-05-31T13:52:53.997711100Z",
     "start_time": "2023-05-31T13:52:53.971710100Z"
    }
   }
  },
  {
   "cell_type": "code",
   "execution_count": 36,
   "outputs": [
    {
     "data": {
      "text/plain": "[0.27495080740807076]"
     },
     "execution_count": 36,
     "metadata": {},
     "output_type": "execute_result"
    }
   ],
   "source": [
    "probs"
   ],
   "metadata": {
    "collapsed": false,
    "ExecuteTime": {
     "end_time": "2023-05-31T13:52:55.352490400Z",
     "start_time": "2023-05-31T13:52:55.326487100Z"
    }
   }
  },
  {
   "cell_type": "code",
   "execution_count": 177,
   "outputs": [
    {
     "name": "stdout",
     "output_type": "stream",
     "text": [
      "binomial - mean: 3.9933, reciprocal mean: 0.31753603144078146\n",
      "poisson -  mean: 3.9933, reciprocal mean: 0.6824639685592186\n"
     ]
    },
    {
     "data": {
      "text/plain": "array([0.8       , 0.75      , 0.85714286, ..., 0.9       , 0.75      ,\n       0.8       ])"
     },
     "execution_count": 177,
     "metadata": {},
     "output_type": "execute_result"
    }
   ],
   "source": [
    "n = 1000\n",
    "c = 3\n",
    "samples = 100000\n",
    "# s = np.random.binomial(n-1, c/n, samples) + 1\n",
    "p = np.random.poisson(c, samples) + 1\n",
    "print(f'binomial - mean: {np.mean(p)}, reciprocal mean: {np.mean(1/p)}')\n",
    "print(f'poisson -  mean: {np.mean(p)}, reciprocal mean: {np.mean(1-1/p)}')\n",
    "1-1/p"
   ],
   "metadata": {
    "collapsed": false,
    "ExecuteTime": {
     "end_time": "2023-05-31T19:44:29.283281Z",
     "start_time": "2023-05-31T19:44:29.251129Z"
    }
   }
  }
 ],
 "metadata": {
  "kernelspec": {
   "display_name": "Python 3",
   "language": "python",
   "name": "python3"
  },
  "language_info": {
   "codemirror_mode": {
    "name": "ipython",
    "version": 2
   },
   "file_extension": ".py",
   "mimetype": "text/x-python",
   "name": "python",
   "nbconvert_exporter": "python",
   "pygments_lexer": "ipython2",
   "version": "2.7.6"
  }
 },
 "nbformat": 4,
 "nbformat_minor": 0
}
