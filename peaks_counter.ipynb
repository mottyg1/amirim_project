{
 "cells": [
  {
   "cell_type": "code",
   "execution_count": 79,
   "metadata": {
    "collapsed": true,
    "ExecuteTime": {
     "end_time": "2023-09-11T21:04:07.835501400Z",
     "start_time": "2023-09-11T21:04:07.804157400Z"
    }
   },
   "outputs": [],
   "source": [
    "def bounded_dyck_paths(n, k):\n",
    "    paths = [[0]]\n",
    "    for i in range(2 * n):\n",
    "        new_paths = []\n",
    "        for path in paths:\n",
    "            if path[-1] == k:\n",
    "                new_paths.append(path + [path[-1] - 1])\n",
    "            elif path[-1] == 0:\n",
    "                new_paths.append(path + [path[-1] + 1])\n",
    "            else:\n",
    "                new_paths.append(path + [path[-1] + 1])\n",
    "                new_paths.append(path + [path[-1] - 1])\n",
    "        paths = new_paths\n",
    "    return [path for path in paths if path[-1] == 0]\n",
    "\n",
    "\n",
    "def print_dyck_path_pattern_as_mountain_range(path, k):\n",
    "    screen = [[\" \" for i in range(len(path))] for j in range(k)]\n",
    "    cursor = [0, 0]\n",
    "    chars = [[\"\\\\\", \"/\"][int((path[i] - path[i - 1] + 1) / 2)] for i in range(1, len(path))]\n",
    "    screen[0][0] = \"/\"\n",
    "    for i in range(1, len(chars)):\n",
    "        cursor[1] = cursor[1] + 1\n",
    "        if chars[i] == chars[i - 1]:\n",
    "            if chars[i] == '/':\n",
    "                cursor[0] = cursor[0] + 1\n",
    "                screen[cursor[0]][cursor[1]] = chars[i]\n",
    "            else:\n",
    "                cursor[0] = cursor[0] - 1\n",
    "                screen[cursor[0]][cursor[1]] = chars[i]\n",
    "        else:\n",
    "            screen[cursor[0]][cursor[1]] = chars[i]\n",
    "\n",
    "    print('_' * len(path))\n",
    "    print('\\n'.join(reversed([''.join(l) for l in screen])))"
   ]
  },
  {
   "cell_type": "code",
   "execution_count": 117,
   "outputs": [
    {
     "name": "stdout",
     "output_type": "stream",
     "text": [
      "       1        0        0        0        0        0        0        0        0        0\n",
      "       2        0        0        0        0        0        0        0        0        0\n",
      "       4        1        0        0        0        0        0        0        0        0\n",
      "       8        4        1        0        0        0        0        0        0        0\n",
      "      16       12        5        1        0        0        0        0        0        0\n",
      "      32       32       18        6        1        0        0        0        0        0\n",
      "      64       80       56       25        7        1        0        0        0        0\n",
      "     128      192      160       88       33        8        1        0        0        0\n",
      "     256      448      432      280      129       42        9        1        0        0\n",
      "     512     1024     1120      832      450      180       52       10        1        0\n",
      "    1024     2304     2816     2352     1452      681      242       63       11        1\n",
      "    2048     5120     6912     6400     4424     2364      985      316       75       12\n",
      "    4096    11264    16640    16896    12896     7700     3653     1375      403       88\n",
      "    8192    24576    39424    43520    36288    23872    12642     5418     1865      504\n"
     ]
    }
   ],
   "source": [
    "steps = range(1, 15)\n",
    "k = 3\n",
    "number_of_peeks = range(0, 10)\n",
    "ll = []\n",
    "maxx = 8\n",
    "for n in steps:\n",
    "    l = []\n",
    "    for n_peeks in number_of_peeks:\n",
    "        paths = bounded_dyck_paths(n, k)\n",
    "        l.append(sum([1 for path in paths if path.count(k) == n_peeks]))\n",
    "    ll.append(l)\n",
    "    print(\" \".join([str(x).rjust(maxx) for x in l]))\n"
   ],
   "metadata": {
    "collapsed": false,
    "ExecuteTime": {
     "end_time": "2023-09-12T09:26:22.854289100Z",
     "start_time": "2023-09-12T09:25:41.764817Z"
    }
   }
  },
  {
   "cell_type": "code",
   "execution_count": 111,
   "outputs": [],
   "source": [],
   "metadata": {
    "collapsed": false,
    "ExecuteTime": {
     "end_time": "2023-09-11T21:29:13.179781500Z",
     "start_time": "2023-09-11T21:29:13.174783300Z"
    }
   }
  }
 ],
 "metadata": {
  "kernelspec": {
   "display_name": "Python 3",
   "language": "python",
   "name": "python3"
  },
  "language_info": {
   "codemirror_mode": {
    "name": "ipython",
    "version": 2
   },
   "file_extension": ".py",
   "mimetype": "text/x-python",
   "name": "python",
   "nbconvert_exporter": "python",
   "pygments_lexer": "ipython2",
   "version": "2.7.6"
  }
 },
 "nbformat": 4,
 "nbformat_minor": 0
}
